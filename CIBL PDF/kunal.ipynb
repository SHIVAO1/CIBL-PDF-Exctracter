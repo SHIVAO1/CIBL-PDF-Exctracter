{
 "cells": [
  {
   "cell_type": "code",
   "execution_count": 25,
   "metadata": {},
   "outputs": [],
   "source": [
    "import numpy as np\n",
    "import pandas as pdf\n",
    "from PyPDF2 import PdfFileReader"
   ]
  },
  {
   "cell_type": "code",
   "execution_count": 26,
   "metadata": {},
   "outputs": [
    {
     "name": "stdout",
     "output_type": "stream",
     "text": [
      " \n",
      " \n",
      "CREDIT INFORMATION BUREAU (INDIA) LIMITED\n",
      " \n",
      "IN ASSOCIATION WITHDUN & BRADSTREET AND TRANSUNION \n",
      " \n",
      " \n",
      "CIBIL CONSUMER CREDIT INFORMATION REPORT\n",
      " \n",
      " \n",
      " \n",
      "‡ \n",
      "CONSUMER/BORROWER: \n",
      "PRABHU KABALI \n",
      "MEMBER ID: \n",
      "BP00340001 (IMAGINARY BANK) \n",
      "MEMBER REFERENCE NUMBER: \n",
      "BB-ENQ01 \n",
      " \n",
      "DATE:\n",
      "12-10-2006\n",
      "TIME: \n",
      "07:28:53 \n",
      "CONTROL NUMBER: \n",
      "295,360,133\n",
      " \n",
      " \n",
      " \n",
      "CONSUMER/BORROWER INFORMATION:\n",
      " \n",
      " \n",
      "NAME: \n",
      "PRABHU KABALI \n",
      " \n",
      "PERSONAL DETAILS TELEPH\n",
      "ONE(S) IDENTIFICATION\n",
      " \n",
      " \n",
      "DATE OF BIRTH: \n",
      "16-08-1976 \n",
      "GENDER: \n",
      "MALE \n",
      " \n",
      "55332211 \n",
      "52951 \n",
      "55826\n",
      " \n",
      " \n",
      "INCOME TAX ID: \n",
      "AMYFK0228P \n",
      "VOTER ID: \n",
      " PASSPORT NO:\n",
      " \n",
      " \n",
      "ADDRESS (ES):\n",
      " \n",
      " \n",
      "ADDRESS \n",
      "DATE REPORTED\n",
      " \n",
      " \n",
      "24/5 KANNAGI STREET, VINAYAGAPURAM AMBATTUR,CHENNAI \n",
      "TAMIL NADU  600053 \n",
      "24/5 KANNAGI STREET, VINAYAGAPURAM AMBATTUR,CHENNAI \n",
      "TAMIL NADU  600053 \n",
      " \n",
      "24-04-2006 \n",
      " \n",
      " \n",
      "02-01-2002 \n",
      " \n",
      "CIBIL TRANSUNION SCORE:\n",
      " \n",
      " \n",
      "SCORE SCORINGFACTORS\n",
      " \n",
      " \n",
      "673\n",
      " \n",
      " \n",
      "1:   \n",
      "TEXT PF SCORINGFACTOR GOESHERE, A REASON \n",
      "WHYTHE CALCULATED SCORE IS WHAT IT IS.\n",
      " \n",
      "2:   \n",
      "TEXT PF SCORINGFACTOR GOESHERE, POSSIBLY INFORM\n",
      "ATION RELATED TONUMBER OFOPEN ACCOUNTS OR \n",
      "OVERALL CREDIT EXPOSURE. \n",
      " \n",
      " \n",
      "SUMMARY:\n",
      " \n",
      "ACCOUNT(S)\n",
      " \n",
      "ACCOUNT TYPE ACCOUNTS ADVANC\n",
      "ES BALANCESDATEOPENED\n",
      " \n",
      " \n",
      "All Accounts \n",
      "TOTAL: \n",
      "3\n",
      " \n",
      "OVERDUE: \n",
      "2 \n",
      "ZERO-BALANCE: \n",
      "1\n",
      " \n",
      " \n",
      "\n",
      "HIGH\n",
      "CR/SANC.\n",
      "AMT:\n",
      "78,000\n",
      "\n",
      "CURRENT:\n",
      "6431\n",
      "\n",
      "OVERDUE:\n",
      "6431\n",
      " \n",
      "\n",
      "RECENT:\n",
      "18-3-2005\n",
      "OLDEST: \n",
      "03-02-2001 \n",
      " \n",
      " \n",
      "ENQUIRIES\n",
      " \n",
      "     \n",
      "ENQUIRY PURPOSE\n",
      " \n",
      "TOTAL\n",
      " \n",
      "PAST 30 DAYS\n",
      "PAST 12MONTHS\n",
      "PAST 24MONTHS\n",
      " \n",
      "RECENT\n",
      "All Enquiries\n",
      " \n",
      "4\n",
      " \n",
      "1\n",
      " \n",
      "3\n",
      " \n",
      "0  \n",
      " \n",
      "                    18-9-2006\n",
      " \n",
      "ACCOUNT(S):\n",
      " \n",
      " \n",
      "ACCOUNT\n",
      " \n",
      "MEMBER NAME: \n",
      "NOT DISCLOSED \n",
      "ACCOUNT NUMBER: \n",
      "NOT DISCLOSED \n",
      "TYPE: \n",
      "AUTO LOAN \n",
      "OWNERSHIP: \n",
      "INDIVIDUAL\n",
      " \n",
      " \n",
      "DATES\n",
      " \n",
      "OPENED: \n",
      "10-01-2001 \n",
      "LAST PAYMENT: \n",
      "10-01-2005 \n",
      "CLOSED: \n",
      "24-12-2004 \n",
      "REPORTED: \n",
      "15-02-2005\n",
      " \n",
      " \n",
      "AMOUNTS\n",
      " \n",
      "SANCTIONED: \n",
      "16,000 \n",
      "CURRENT BALANCE: \n",
      "0 \n",
      "OVERDUE: \n",
      "0 \n",
      " \n",
      "STATUS\n",
      " \n",
      "Written Off \n",
      " \n",
      "DAYS PAST DUE/ASSET CLASSIFICATION (UP TO 36MONTHS; LEFT TO RIGHT)\n",
      " \n",
      "182\n",
      " \n",
      "152\n",
      " \n",
      "122\n",
      " \n",
      "092\n",
      " \n",
      "062\n",
      " \n",
      "032\n",
      "012\n",
      " \n",
      "009\n",
      " \n",
      "005\n",
      "STD\n",
      "012\n",
      "000\n",
      "000\n",
      "STD\n",
      "000\n",
      " \n",
      "000\n",
      " \n",
      "000\n",
      "009\n",
      "12-04\n",
      " \n",
      "11-04\n",
      " \n",
      "10-04\n",
      " \n",
      "09-04\n",
      " \n",
      "08-04\n",
      " \n",
      "07-04\n",
      " \n",
      "06-04\n",
      " \n",
      "05-04\n",
      " \n",
      "04-04\n",
      "03-04\n",
      "02-04\n",
      "01-04\n",
      "12-03\n",
      "11-03\n",
      "10-03\n",
      " \n",
      "09-03\n",
      " \n",
      "08-03\n",
      "07-03\n",
      "000\n",
      " \n",
      "STD\n",
      " \n",
      "SUB\n",
      " \n",
      "STD\n",
      " \n",
      "000\n",
      " \n",
      "015\n",
      "000\n",
      " \n",
      "000\n",
      " \n",
      "045\n",
      "030\n",
      "000\n",
      "STD\n",
      "STD\n",
      "STD\n",
      "STD\n",
      " \n",
      "STD\n",
      " \n",
      " \n",
      "06-03\n",
      " \n",
      "05-03\n",
      " \n",
      "04-03\n",
      " \n",
      "03-03\n",
      " \n",
      "02-03\n",
      " \n",
      "01-03\n",
      " \n",
      "12-02\n",
      " \n",
      "11-02\n",
      " \n",
      "10-02\n",
      "09-02\n",
      "08-02\n",
      "07-02\n",
      "06-02\n",
      "05-02\n",
      "04-02\n",
      " \n",
      "03-02\n",
      " \n",
      " \n",
      " \n",
      " \n",
      " \n",
      "\n",
      " \n",
      " \n",
      " \n",
      "Services provided in association with \n",
      "© COPYRIGHT 2007 CREDITINFORMATION BUREAU(INDIA)\n",
      " LIMITED.ALL RIGHTS RESERVED. PAGE1 OF 2 \n",
      " \n",
      "\n"
     ]
    }
   ],
   "source": [
    "from PyPDF2 import PdfReader\n",
    "\n",
    "reader = PdfReader(\"C:\\\\Users\\\\hp\\\\OneDrive\\\\Desktop\\\\SQL\\\\Class_11\\\\Sample-CIBIL-CIR-Report.pdf\")\n",
    "page = reader.pages[0]\n",
    "print(page.extract_text())\n",
    "\n"
   ]
  },
  {
   "cell_type": "code",
   "execution_count": 27,
   "metadata": {},
   "outputs": [],
   "source": [
    "txt=page.extract_text()\n"
   ]
  },
  {
   "cell_type": "code",
   "execution_count": 28,
   "metadata": {},
   "outputs": [
    {
     "name": "stdout",
     "output_type": "stream",
     "text": [
      "<class 'str'>\n"
     ]
    }
   ],
   "source": [
    "print(type(txt))"
   ]
  },
  {
   "cell_type": "code",
   "execution_count": 29,
   "metadata": {},
   "outputs": [],
   "source": [
    "import re"
   ]
  },
  {
   "cell_type": "code",
   "execution_count": 30,
   "metadata": {},
   "outputs": [
    {
     "name": "stdout",
     "output_type": "stream",
     "text": [
      "PRABHU KABALI \n"
     ]
    }
   ],
   "source": [
    "Con_name = re.search('NAME: \\n(.*)\\n', txt)\n",
    "print(Con_name.group(1))\n"
   ]
  },
  {
   "cell_type": "code",
   "execution_count": 31,
   "metadata": {},
   "outputs": [
    {
     "name": "stdout",
     "output_type": "stream",
     "text": [
      "1976 -08-16\n"
     ]
    }
   ],
   "source": [
    "DOB = re.search('DATE OF BIRTH: \\n(.*)\\n', txt)\n",
    "DOB = \"-\".join(DOB.group(1).split(\"-\")[::-1])\n",
    "print(DOB)\n"
   ]
  },
  {
   "cell_type": "code",
   "execution_count": 32,
   "metadata": {},
   "outputs": [
    {
     "name": "stdout",
     "output_type": "stream",
     "text": [
      "MALE \n"
     ]
    }
   ],
   "source": [
    "result = re.search('GENDER: \\n(.*)\\n', txt)\n",
    "print(result.group(1))\n"
   ]
  },
  {
   "cell_type": "code",
   "execution_count": 33,
   "metadata": {},
   "outputs": [
    {
     "name": "stdout",
     "output_type": "stream",
     "text": [
      "AMYFK0228P \n"
     ]
    }
   ],
   "source": [
    "Income_tax_id= re.search('INCOME TAX ID: \\n(.*)\\n', txt)\n",
    "print(Income_tax_id.group(1))"
   ]
  },
  {
   "cell_type": "code",
   "execution_count": 34,
   "metadata": {},
   "outputs": [
    {
     "data": {
      "text/plain": [
       "True"
      ]
     },
     "execution_count": 34,
     "metadata": {},
     "output_type": "execute_result"
    }
   ],
   "source": [
    "'DATE REPORTED\\n \\n \\n' in txt \n"
   ]
  },
  {
   "cell_type": "code",
   "execution_count": 35,
   "metadata": {},
   "outputs": [
    {
     "name": "stdout",
     "output_type": "stream",
     "text": [
      "24/5 KANNAGI STREET, VINAYAGAPURAM AMBATTUR,CHENNAI \n"
     ]
    }
   ],
   "source": [
    "Address = re.search('DATE REPORTED\\n \\n \\n(.*)\\n', txt)\n",
    "print(Address.group(1))\n"
   ]
  },
  {
   "cell_type": "code",
   "execution_count": 36,
   "metadata": {},
   "outputs": [
    {
     "name": "stdout",
     "output_type": "stream",
     "text": [
      "673\n"
     ]
    }
   ],
   "source": [
    "\n",
    "CIBIL_Score= re.search('SCORE SCORINGFACTORS\\n \\n \\n(.*)\\n', txt)\n",
    "print(int(CIBIL_Score.group(1)))\n"
   ]
  },
  {
   "cell_type": "code",
   "execution_count": 37,
   "metadata": {},
   "outputs": [
    {
     "data": {
      "text/plain": [
       "True"
      ]
     },
     "execution_count": 37,
     "metadata": {},
     "output_type": "execute_result"
    }
   ],
   "source": [
    "'All Enquiries\\n \\n4\\n \\n' in txt"
   ]
  },
  {
   "cell_type": "code",
   "execution_count": 38,
   "metadata": {},
   "outputs": [
    {
     "name": "stdout",
     "output_type": "stream",
     "text": [
      "4\n"
     ]
    }
   ],
   "source": [
    "\n",
    "Enquires = re.search('All Enquiries\\n \\n(.*)\\n', txt)\n",
    "print(Enquires.group(1))\n"
   ]
  },
  {
   "cell_type": "code",
   "execution_count": 39,
   "metadata": {},
   "outputs": [
    {
     "name": "stdout",
     "output_type": "stream",
     "text": [
      "4\n"
     ]
    }
   ],
   "source": [
    "enq = Enquires.group(1)\n",
    "print(enq)"
   ]
  },
  {
   "cell_type": "code",
   "execution_count": 40,
   "metadata": {},
   "outputs": [
    {
     "name": "stdout",
     "output_type": "stream",
     "text": [
      "NOT DISCLOSED \n"
     ]
    }
   ],
   "source": [
    "Member_Name= re.search('MEMBER NAME: \\n(.*)\\n', txt)\n",
    "\n",
    "print(Member_Name.group(1))\n"
   ]
  },
  {
   "cell_type": "code",
   "execution_count": 41,
   "metadata": {},
   "outputs": [
    {
     "name": "stdout",
     "output_type": "stream",
     "text": [
      "NOT DISCLOSED \n"
     ]
    }
   ],
   "source": [
    "Account_Number = re.search('ACCOUNT NUMBER: \\n(.*)\\n', txt)\n",
    "\n",
    "print(Account_Number.group(1))\n"
   ]
  },
  {
   "cell_type": "code",
   "execution_count": 42,
   "metadata": {},
   "outputs": [
    {
     "name": "stdout",
     "output_type": "stream",
     "text": [
      "AUTO LOAN \n"
     ]
    }
   ],
   "source": [
    "Loan_Type = re.search('TYPE: \\n(.*)\\n', txt)\n",
    "\n",
    "print(Loan_Type.group(1))\n"
   ]
  },
  {
   "cell_type": "code",
   "execution_count": 43,
   "metadata": {},
   "outputs": [
    {
     "name": "stdout",
     "output_type": "stream",
     "text": [
      "INDIVIDUAL\n"
     ]
    }
   ],
   "source": [
    "Ownership = re.search('WNERSHIP: \\n(.*)\\n', txt)\n",
    "\n",
    "print(Ownership.group(1))\n"
   ]
  },
  {
   "cell_type": "code",
   "execution_count": 44,
   "metadata": {},
   "outputs": [
    {
     "name": "stdout",
     "output_type": "stream",
     "text": [
      "16,000 \n"
     ]
    }
   ],
   "source": [
    "Amount_sanctioned = re.search('SANCTIONED: \\n(.*)\\n', txt)\n",
    "\n",
    "print(Amount_sanctioned.group(1))\n"
   ]
  },
  {
   "cell_type": "code",
   "execution_count": 45,
   "metadata": {},
   "outputs": [
    {
     "data": {
      "text/plain": [
       "True"
      ]
     },
     "execution_count": 45,
     "metadata": {},
     "output_type": "execute_result"
    }
   ],
   "source": [
    "'STATUS\\n' in txt\n"
   ]
  },
  {
   "cell_type": "code",
   "execution_count": 46,
   "metadata": {},
   "outputs": [
    {
     "name": "stdout",
     "output_type": "stream",
     "text": [
      "Written Off \n"
     ]
    }
   ],
   "source": [
    "Status = re.search('STATUS\\n \\n(.*)\\n', txt)\n",
    "\n",
    "print(Status.group(1))\n"
   ]
  },
  {
   "cell_type": "code",
   "execution_count": 47,
   "metadata": {},
   "outputs": [
    {
     "data": {
      "text/plain": [
       "True"
      ]
     },
     "execution_count": 47,
     "metadata": {},
     "output_type": "execute_result"
    }
   ],
   "source": [
    "'All Enquiries\\n \\n'+str(4)+'\\n \\n' in txt "
   ]
  },
  {
   "cell_type": "code",
   "execution_count": 48,
   "metadata": {},
   "outputs": [
    {
     "name": "stdout",
     "output_type": "stream",
     "text": [
      "1\n"
     ]
    }
   ],
   "source": [
    "INQ_1 = re.search('All Enquiries\\n \\n'+str(enq)+'\\n \\n(.*)\\n', txt)\n",
    "\n",
    "print(INQ_1.group(1))\n"
   ]
  },
  {
   "cell_type": "code",
   "execution_count": 49,
   "metadata": {},
   "outputs": [],
   "source": [
    "enq_2 = INQ_1.group(1)"
   ]
  },
  {
   "cell_type": "code",
   "execution_count": 50,
   "metadata": {},
   "outputs": [
    {
     "data": {
      "text/plain": [
       "True"
      ]
     },
     "execution_count": 50,
     "metadata": {},
     "output_type": "execute_result"
    }
   ],
   "source": [
    "'All Enquiries\\n \\n'+str(4)+'\\n \\n'+str(1)+'\\n' in txt "
   ]
  },
  {
   "cell_type": "code",
   "execution_count": 51,
   "metadata": {},
   "outputs": [
    {
     "name": "stdout",
     "output_type": "stream",
     "text": [
      "3\n"
     ]
    }
   ],
   "source": [
    "INQ_2 = re.search('All Enquiries\\n \\n'+str(enq)+'\\n \\n' +str(enq_2)+'\\n \\n(.*)\\n', txt)\n",
    "\n",
    "print(INQ_2.group(1))\n"
   ]
  },
  {
   "cell_type": "code",
   "execution_count": 56,
   "metadata": {},
   "outputs": [
    {
     "name": "stdout",
     "output_type": "stream",
     "text": [
      "NOT APPROVED\n"
     ]
    }
   ],
   "source": [
    "if int(CIBIL_Score.group(1)) > 700 and DOB<\"1996 -01-01\" and int(INQ_1.group(1)) < 3 and int(INQ_2.group(1))<10:\n",
    "    print('APPROVED')\n",
    "else:\n",
    "    print(\"NOT APPROVED\")"
   ]
  },
  {
   "cell_type": "code",
   "execution_count": null,
   "metadata": {},
   "outputs": [],
   "source": []
  }
 ],
 "metadata": {
  "interpreter": {
   "hash": "b302cdd1e032ee910f5c889c3360c28564c92ad4f326fc3102e39fbe47faee66"
  },
  "kernelspec": {
   "display_name": "Python 3.9.7 ('base')",
   "language": "python",
   "name": "python3"
  },
  "language_info": {
   "codemirror_mode": {
    "name": "ipython",
    "version": 3
   },
   "file_extension": ".py",
   "mimetype": "text/x-python",
   "name": "python",
   "nbconvert_exporter": "python",
   "pygments_lexer": "ipython3",
   "version": "3.9.7"
  },
  "orig_nbformat": 4
 },
 "nbformat": 4,
 "nbformat_minor": 2
}
